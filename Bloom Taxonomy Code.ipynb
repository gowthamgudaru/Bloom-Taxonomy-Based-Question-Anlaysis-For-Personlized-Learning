{
 "cells": [
  {
   "cell_type": "code",
   "execution_count": null,
   "id": "80b6abea-3510-4d63-8814-3f5765901681",
   "metadata": {},
   "outputs": [],
   "source": []
  },
  {
   "cell_type": "code",
   "execution_count": null,
   "id": "f023f582-b376-4f09-b39b-4ccf8d5b42a9",
   "metadata": {},
   "outputs": [],
   "source": []
  },
  {
   "cell_type": "code",
   "execution_count": 1,
   "id": "05923d5b",
   "metadata": {},
   "outputs": [],
   "source": [
    "import pandas as pd\n",
    "from sklearn.model_selection import train_test_split\n",
    "from sklearn.feature_extraction.text import CountVectorizer, TfidfVectorizer\n",
    "from sklearn.preprocessing import LabelEncoder\n",
    "from sklearn.naive_bayes import MultinomialNB\n",
    "from sklearn.svm import SVC\n",
    "from sklearn.ensemble import RandomForestClassifier\n",
    "from sklearn.neighbors import KNeighborsClassifier\n",
    "from sklearn.metrics import accuracy_score, classification_report\n",
    "from keras.models import Sequential\n",
    "from keras.layers import Dense\n",
    "from keras.preprocessing.text import Tokenizer\n",
    "from keras.preprocessing.sequence import pad_sequences\n",
    "from nltk.corpus import stopwords\n",
    "from nltk.stem import WordNetLemmatizer\n",
    "import string"
   ]
  },
  {
   "cell_type": "code",
   "execution_count": 2,
   "id": "7fc2e4e4",
   "metadata": {},
   "outputs": [
    {
     "data": {
      "text/html": [
       "<div>\n",
       "<style scoped>\n",
       "    .dataframe tbody tr th:only-of-type {\n",
       "        vertical-align: middle;\n",
       "    }\n",
       "\n",
       "    .dataframe tbody tr th {\n",
       "        vertical-align: top;\n",
       "    }\n",
       "\n",
       "    .dataframe thead th {\n",
       "        text-align: right;\n",
       "    }\n",
       "</style>\n",
       "<table border=\"1\" class=\"dataframe\">\n",
       "  <thead>\n",
       "    <tr style=\"text-align: right;\">\n",
       "      <th></th>\n",
       "      <th>Question</th>\n",
       "      <th>Label</th>\n",
       "    </tr>\n",
       "  </thead>\n",
       "  <tbody>\n",
       "    <tr>\n",
       "      <th>0</th>\n",
       "      <td>Can you list the ingredients needed for a clas...</td>\n",
       "      <td>Remember</td>\n",
       "    </tr>\n",
       "    <tr>\n",
       "      <th>1</th>\n",
       "      <td>What are the top five tourist attractions in P...</td>\n",
       "      <td>Remember</td>\n",
       "    </tr>\n",
       "    <tr>\n",
       "      <th>2</th>\n",
       "      <td>List five common programming languages.</td>\n",
       "      <td>Remember</td>\n",
       "    </tr>\n",
       "    <tr>\n",
       "      <th>3</th>\n",
       "      <td>Name three types of renewable energy sources.</td>\n",
       "      <td>Remember</td>\n",
       "    </tr>\n",
       "    <tr>\n",
       "      <th>4</th>\n",
       "      <td>Can you list the planets in our solar system?</td>\n",
       "      <td>Remember</td>\n",
       "    </tr>\n",
       "    <tr>\n",
       "      <th>...</th>\n",
       "      <td>...</td>\n",
       "      <td>...</td>\n",
       "    </tr>\n",
       "    <tr>\n",
       "      <th>1766</th>\n",
       "      <td>Can you generalize from historical economic cy...</td>\n",
       "      <td>Create</td>\n",
       "    </tr>\n",
       "    <tr>\n",
       "      <th>1767</th>\n",
       "      <td>How can you relate knowledge from history and ...</td>\n",
       "      <td>Create</td>\n",
       "    </tr>\n",
       "    <tr>\n",
       "      <th>1768</th>\n",
       "      <td>What conclusions can you draw by combining int...</td>\n",
       "      <td>Create</td>\n",
       "    </tr>\n",
       "    <tr>\n",
       "      <th>1769</th>\n",
       "      <td>How could old architectural styles be combined...</td>\n",
       "      <td>Create</td>\n",
       "    </tr>\n",
       "    <tr>\n",
       "      <th>1770</th>\n",
       "      <td>Can you generalize from historical fashion tre...</td>\n",
       "      <td>Create</td>\n",
       "    </tr>\n",
       "  </tbody>\n",
       "</table>\n",
       "<p>1771 rows × 2 columns</p>\n",
       "</div>"
      ],
      "text/plain": [
       "                                               Question     Label\n",
       "0     Can you list the ingredients needed for a clas...  Remember\n",
       "1     What are the top five tourist attractions in P...  Remember\n",
       "2               List five common programming languages.  Remember\n",
       "3         Name three types of renewable energy sources.  Remember\n",
       "4         Can you list the planets in our solar system?  Remember\n",
       "...                                                 ...       ...\n",
       "1766  Can you generalize from historical economic cy...    Create\n",
       "1767  How can you relate knowledge from history and ...    Create\n",
       "1768  What conclusions can you draw by combining int...    Create\n",
       "1769  How could old architectural styles be combined...    Create\n",
       "1770  Can you generalize from historical fashion tre...    Create\n",
       "\n",
       "[1771 rows x 2 columns]"
      ]
     },
     "execution_count": 2,
     "metadata": {},
     "output_type": "execute_result"
    }
   ],
   "source": [
    "# Load the dataset\n",
    "df = pd.read_csv('BT_Dataset.csv')\n",
    "df"
   ]
  },
  {
   "cell_type": "code",
   "execution_count": 3,
   "id": "ec4b2222",
   "metadata": {},
   "outputs": [
    {
     "name": "stderr",
     "output_type": "stream",
     "text": [
      "[nltk_data] Downloading package stopwords to\n",
      "[nltk_data]     /Users/dineshyadav/nltk_data...\n",
      "[nltk_data]   Package stopwords is already up-to-date!\n"
     ]
    },
    {
     "data": {
      "text/plain": [
       "True"
      ]
     },
     "execution_count": 3,
     "metadata": {},
     "output_type": "execute_result"
    }
   ],
   "source": [
    "import re\n",
    "from nltk.corpus import stopwords\n",
    "from nltk.stem import PorterStemmer\n",
    "\n",
    "# Download NLTK resources\n",
    "import nltk\n",
    "nltk.download('stopwords')"
   ]
  },
  {
   "cell_type": "code",
   "execution_count": 4,
   "id": "f435ab0a",
   "metadata": {},
   "outputs": [],
   "source": [
    "# Define a function for text preprocessing\n",
    "def preprocess_text(text):\n",
    "    # Convert text to lowercase\n",
    "    text = text.lower()\n",
    "    \n",
    "    # Remove special characters, numbers, and punctuations\n",
    "    text = re.sub(r'[^a-zA-Z\\s]', '', text)\n",
    "    \n",
    "    # Tokenization (split the text into words)\n",
    "    words = text.split()\n",
    "    \n",
    "    # Remove stopwords\n",
    "    stop_words = set(stopwords.words('english'))\n",
    "    words = [word for word in words if word not in stop_words]\n",
    "    \n",
    "    # Apply stemming (reduce words to their root form)\n",
    "    stemmer = PorterStemmer()\n",
    "    words = [stemmer.stem(word) for word in words]\n",
    "    \n",
    "    # Join the words back into a string\n",
    "    processed_text = ' '.join(words)\n",
    "    \n",
    "    return processed_text"
   ]
  },
  {
   "cell_type": "code",
   "execution_count": 5,
   "id": "0649c020",
   "metadata": {},
   "outputs": [],
   "source": [
    "# Apply text preprocessing to the 'Question' column\n",
    "df['Processed_Question'] = df['Question'].apply(preprocess_text)"
   ]
  },
  {
   "cell_type": "code",
   "execution_count": 6,
   "id": "a2d2e7d0",
   "metadata": {},
   "outputs": [],
   "source": [
    "# Retrain-test split with processed text\n",
    "X_train, X_test, y_train, y_test = train_test_split(df['Processed_Question'], df['Label'], test_size=0.2, random_state=42)\n"
   ]
  },
  {
   "cell_type": "code",
   "execution_count": 7,
   "id": "41ffd74f",
   "metadata": {},
   "outputs": [],
   "source": [
    "# Vectorization using CountVectorizer with processed text\n",
    "count_vectorizer = CountVectorizer()\n",
    "X_train_count = count_vectorizer.fit_transform(X_train)\n",
    "X_test_count = count_vectorizer.transform(X_test)"
   ]
  },
  {
   "cell_type": "code",
   "execution_count": 8,
   "id": "5c3f9c80",
   "metadata": {},
   "outputs": [],
   "source": [
    "# Vectorization using TF-IDF Vectorizer with processed text\n",
    "tfidf_vectorizer = TfidfVectorizer()\n",
    "X_train_tfidf = tfidf_vectorizer.fit_transform(X_train)\n",
    "X_test_tfidf = tfidf_vectorizer.transform(X_test)"
   ]
  },
  {
   "cell_type": "code",
   "execution_count": 9,
   "id": "3d4ca7f2",
   "metadata": {},
   "outputs": [
    {
     "name": "stdout",
     "output_type": "stream",
     "text": [
      "Processed Data:\n",
      "                                     Processed_Question     Label\n",
      "0             list ingredi need classic spaghetti recip  Remember\n",
      "1                         top five tourist attract pari  Remember\n",
      "2                      list five common program languag  Remember\n",
      "3                    name three type renew energi sourc  Remember\n",
      "4                              list planet solar system  Remember\n",
      "...                                                 ...       ...\n",
      "1766  gener histor econom cycl predict futur financi...    Create\n",
      "1767  relat knowledg histori psycholog understand cu...    Create\n",
      "1768  conclus draw combin interpret differ religi pe...    Create\n",
      "1769  could old architectur style combin creat susta...    Create\n",
      "1770  gener histor fashion trend predict futur style...    Create\n",
      "\n",
      "[1771 rows x 2 columns]\n"
     ]
    }
   ],
   "source": [
    "# Display the processed data\n",
    "print(\"Processed Data:\")\n",
    "print(df[['Processed_Question', 'Label']])"
   ]
  },
  {
   "cell_type": "code",
   "execution_count": 10,
   "id": "de8ec0da",
   "metadata": {},
   "outputs": [],
   "source": [
    "# Label encoding for the 'Label' column\n",
    "label_encoder = LabelEncoder()\n",
    "df['Label'] = label_encoder.fit_transform(df['Label'])\n",
    "\n",
    "# Train-test split\n",
    "X_train, X_test, y_train, y_test = train_test_split(df['Processed_Question'], df['Label'], test_size=0.2, random_state=42)\n"
   ]
  },
  {
   "cell_type": "code",
   "execution_count": 11,
   "id": "1e72ad9e",
   "metadata": {},
   "outputs": [],
   "source": [
    "# Vectorization using CountVectorizer\n",
    "count_vectorizer = CountVectorizer()\n",
    "X_train_count = count_vectorizer.fit_transform(X_train)\n",
    "X_test_count = count_vectorizer.transform(X_test)"
   ]
  },
  {
   "cell_type": "code",
   "execution_count": 12,
   "id": "5db2f407",
   "metadata": {},
   "outputs": [],
   "source": [
    "# Vectorization using TF-IDF Vectorizer\n",
    "tfidf_vectorizer = TfidfVectorizer()\n",
    "X_train_tfidf = tfidf_vectorizer.fit_transform(X_train)\n",
    "X_test_tfidf = tfidf_vectorizer.transform(X_test)"
   ]
  },
  {
   "cell_type": "code",
   "execution_count": 13,
   "id": "52877eca",
   "metadata": {},
   "outputs": [],
   "source": [
    "# Machine Learning Models\n",
    "models = {\n",
    "    'Multinomial Naive Bayes': MultinomialNB(),\n",
    "    'Support Vector Machine': SVC(),\n",
    "    'Random Forest': RandomForestClassifier(),\n",
    "    'K-Nearest Neighbors': KNeighborsClassifier(n_neighbors=3)\n",
    "}"
   ]
  },
  {
   "cell_type": "code",
   "execution_count": 14,
   "id": "503d8453",
   "metadata": {},
   "outputs": [
    {
     "name": "stdout",
     "output_type": "stream",
     "text": [
      "Multinomial Naive Bayes - CountVectorizer Accuracy: 0.856338028169014\n",
      "              precision    recall  f1-score   support\n",
      "\n",
      "           0       0.83      0.90      0.87        61\n",
      "           1       0.76      0.91      0.83        58\n",
      "           2       0.98      0.90      0.94        63\n",
      "           3       0.98      0.83      0.90        60\n",
      "           4       0.86      0.73      0.79        52\n",
      "           5       0.77      0.84      0.80        61\n",
      "\n",
      "    accuracy                           0.86       355\n",
      "   macro avg       0.86      0.85      0.86       355\n",
      "weighted avg       0.87      0.86      0.86       355\n",
      "\n",
      "Multinomial Naive Bayes - TF-IDF Vectorizer Accuracy: 0.8535211267605634\n",
      "              precision    recall  f1-score   support\n",
      "\n",
      "           0       0.78      0.89      0.83        61\n",
      "           1       0.77      0.91      0.83        58\n",
      "           2       0.97      0.92      0.94        63\n",
      "           3       0.98      0.85      0.91        60\n",
      "           4       0.89      0.65      0.76        52\n",
      "           5       0.79      0.87      0.83        61\n",
      "\n",
      "    accuracy                           0.85       355\n",
      "   macro avg       0.86      0.85      0.85       355\n",
      "weighted avg       0.86      0.85      0.85       355\n",
      "\n",
      "Support Vector Machine - CountVectorizer Accuracy: 0.9352112676056338\n",
      "              precision    recall  f1-score   support\n",
      "\n",
      "           0       0.95      0.93      0.94        61\n",
      "           1       0.93      0.97      0.95        58\n",
      "           2       1.00      0.98      0.99        63\n",
      "           3       0.98      0.92      0.95        60\n",
      "           4       0.94      0.88      0.91        52\n",
      "           5       0.82      0.92      0.87        61\n",
      "\n",
      "    accuracy                           0.94       355\n",
      "   macro avg       0.94      0.93      0.94       355\n",
      "weighted avg       0.94      0.94      0.94       355\n",
      "\n",
      "Support Vector Machine - TF-IDF Vectorizer Accuracy: 0.9352112676056338\n",
      "              precision    recall  f1-score   support\n",
      "\n",
      "           0       0.98      0.92      0.95        61\n",
      "           1       0.95      0.98      0.97        58\n",
      "           2       1.00      1.00      1.00        63\n",
      "           3       0.98      0.90      0.94        60\n",
      "           4       0.88      0.87      0.87        52\n",
      "           5       0.83      0.93      0.88        61\n",
      "\n",
      "    accuracy                           0.94       355\n",
      "   macro avg       0.94      0.93      0.93       355\n",
      "weighted avg       0.94      0.94      0.94       355\n",
      "\n",
      "Random Forest - CountVectorizer Accuracy: 0.9352112676056338\n",
      "              precision    recall  f1-score   support\n",
      "\n",
      "           0       0.95      0.98      0.97        61\n",
      "           1       0.89      1.00      0.94        58\n",
      "           2       1.00      1.00      1.00        63\n",
      "           3       0.95      0.95      0.95        60\n",
      "           4       0.98      0.77      0.86        52\n",
      "           5       0.86      0.89      0.87        61\n",
      "\n",
      "    accuracy                           0.94       355\n",
      "   macro avg       0.94      0.93      0.93       355\n",
      "weighted avg       0.94      0.94      0.93       355\n",
      "\n",
      "Random Forest - TF-IDF Vectorizer Accuracy: 0.9323943661971831\n",
      "              precision    recall  f1-score   support\n",
      "\n",
      "           0       0.92      0.98      0.95        61\n",
      "           1       0.92      1.00      0.96        58\n",
      "           2       0.98      0.98      0.98        63\n",
      "           3       0.95      0.95      0.95        60\n",
      "           4       0.95      0.77      0.85        52\n",
      "           5       0.87      0.89      0.88        61\n",
      "\n",
      "    accuracy                           0.93       355\n",
      "   macro avg       0.93      0.93      0.93       355\n",
      "weighted avg       0.93      0.93      0.93       355\n",
      "\n",
      "K-Nearest Neighbors - CountVectorizer Accuracy: 0.8676056338028169\n",
      "              precision    recall  f1-score   support\n",
      "\n",
      "           0       0.85      0.93      0.89        61\n",
      "           1       0.90      0.95      0.92        58\n",
      "           2       1.00      0.90      0.95        63\n",
      "           3       0.91      0.83      0.87        60\n",
      "           4       0.86      0.73      0.79        52\n",
      "           5       0.72      0.84      0.77        61\n",
      "\n",
      "    accuracy                           0.87       355\n",
      "   macro avg       0.87      0.86      0.87       355\n",
      "weighted avg       0.87      0.87      0.87       355\n",
      "\n",
      "K-Nearest Neighbors - TF-IDF Vectorizer Accuracy: 0.8084507042253521\n",
      "              precision    recall  f1-score   support\n",
      "\n",
      "           0       0.74      0.90      0.81        61\n",
      "           1       0.77      0.86      0.81        58\n",
      "           2       0.87      0.92      0.89        63\n",
      "           3       0.89      0.82      0.85        60\n",
      "           4       0.75      0.58      0.65        52\n",
      "           5       0.83      0.74      0.78        61\n",
      "\n",
      "    accuracy                           0.81       355\n",
      "   macro avg       0.81      0.80      0.80       355\n",
      "weighted avg       0.81      0.81      0.81       355\n",
      "\n"
     ]
    }
   ],
   "source": [
    "\n",
    "for name, model in models.items():\n",
    "    # Fit the model using CountVectorizer\n",
    "    model.fit(X_train_count, y_train)\n",
    "    y_pred_count = model.predict(X_test_count)\n",
    "    \n",
    "    # Evaluate the model\n",
    "    accuracy_count = accuracy_score(y_test, y_pred_count)\n",
    "    print(f'{name} - CountVectorizer Accuracy: {accuracy_count}')\n",
    "    print(classification_report(y_test, y_pred_count))\n",
    "    \n",
    "    # Fit the model using TF-IDF Vectorizer\n",
    "    model.fit(X_train_tfidf, y_train)\n",
    "    y_pred_tfidf = model.predict(X_test_tfidf)\n",
    "    \n",
    "    # Evaluate the model\n",
    "    accuracy_tfidf = accuracy_score(y_test, y_pred_tfidf)\n",
    "    print(f'{name} - TF-IDF Vectorizer Accuracy: {accuracy_tfidf}')\n",
    "    print(classification_report(y_test, y_pred_tfidf))"
   ]
  },
  {
   "cell_type": "code",
   "execution_count": 15,
   "id": "cb01bec9",
   "metadata": {},
   "outputs": [
    {
     "name": "stdout",
     "output_type": "stream",
     "text": [
      "Epoch 1/10\n",
      "1416/1416 [==============================] - 1s 325us/step - loss: -1618914.7500 - accuracy: 0.1709\n",
      "Epoch 2/10\n",
      "1416/1416 [==============================] - 0s 317us/step - loss: -20987108.0000 - accuracy: 0.1709\n",
      "Epoch 3/10\n",
      "1416/1416 [==============================] - 0s 318us/step - loss: -76708472.0000 - accuracy: 0.1709\n",
      "Epoch 4/10\n",
      "1416/1416 [==============================] - 0s 318us/step - loss: -177607824.0000 - accuracy: 0.1709\n",
      "Epoch 5/10\n",
      "1416/1416 [==============================] - 0s 318us/step - loss: -326353056.0000 - accuracy: 0.1709\n",
      "Epoch 6/10\n",
      "1416/1416 [==============================] - 0s 318us/step - loss: -533844512.0000 - accuracy: 0.1709\n",
      "Epoch 7/10\n",
      "1416/1416 [==============================] - 0s 318us/step - loss: -807324160.0000 - accuracy: 0.1709\n",
      "Epoch 8/10\n",
      "1416/1416 [==============================] - 0s 317us/step - loss: -1150752512.0000 - accuracy: 0.1709\n",
      "Epoch 9/10\n",
      "1416/1416 [==============================] - 0s 317us/step - loss: -1568686592.0000 - accuracy: 0.1709\n",
      "Epoch 10/10\n",
      "1416/1416 [==============================] - 0s 318us/step - loss: -2076080896.0000 - accuracy: 0.1709\n",
      "12/12 [==============================] - 0s 381us/step - loss: -1902487936.0000 - accuracy: 0.1634\n",
      "Deep Learning (Keras) Accuracy: 0.16338028013706207\n"
     ]
    }
   ],
   "source": [
    "# Deep Learning Model using Keras\n",
    "tokenizer = Tokenizer()\n",
    "tokenizer.fit_on_texts(X_train)\n",
    "\n",
    "X_train_seq = tokenizer.texts_to_sequences(X_train)\n",
    "X_test_seq = tokenizer.texts_to_sequences(X_test)\n",
    "\n",
    "vocab_size = len(tokenizer.word_index) + 1\n",
    "\n",
    "X_train_pad = pad_sequences(X_train_seq, maxlen=20, padding='post')\n",
    "X_test_pad = pad_sequences(X_test_seq, maxlen=20, padding='post')\n",
    "\n",
    "model = Sequential()\n",
    "model.add(Dense(64, input_dim=20, activation='relu'))\n",
    "model.add(Dense(32, activation='relu'))\n",
    "model.add(Dense(1, activation='sigmoid'))\n",
    "\n",
    "model.compile(loss='binary_crossentropy', optimizer='adam', metrics=['accuracy'])\n",
    "\n",
    "model.fit(X_train_pad, y_train, epochs=10, batch_size=1, verbose=1)\n",
    "\n",
    "_, accuracy_dl = model.evaluate(X_test_pad, y_test)\n",
    "print(f'Deep Learning (Keras) Accuracy: {accuracy_dl}')\n"
   ]
  },
  {
   "cell_type": "code",
   "execution_count": null,
   "id": "2b14b9f8-aecd-41f8-b600-fa26d3415a31",
   "metadata": {},
   "outputs": [],
   "source": [
    "# # RandomForestClassifier & Naive Bays & KNeighborsClassifier & Support Vector Machine"
   ]
  },
  {
   "cell_type": "code",
   "execution_count": 16,
   "id": "c0f03a74",
   "metadata": {},
   "outputs": [],
   "source": [
    "import gensim.downloader as api\n",
    "\n",
    "word_vect = api.load('word2vec-google-news-300')"
   ]
  },
  {
   "cell_type": "code",
   "execution_count": 17,
   "id": "b2ec3442",
   "metadata": {},
   "outputs": [
    {
     "name": "stdout",
     "output_type": "stream",
     "text": [
      "Requirement already satisfied: spacy in /Users/dineshyadav/anaconda3/lib/python3.10/site-packages (3.6.1)\n",
      "Requirement already satisfied: thinc<8.2.0,>=8.1.8 in /Users/dineshyadav/anaconda3/lib/python3.10/site-packages (from spacy) (8.1.11)\n",
      "Requirement already satisfied: typer<0.10.0,>=0.3.0 in /Users/dineshyadav/anaconda3/lib/python3.10/site-packages (from spacy) (0.9.0)\n",
      "Requirement already satisfied: murmurhash<1.1.0,>=0.28.0 in /Users/dineshyadav/anaconda3/lib/python3.10/site-packages (from spacy) (1.0.9)\n",
      "Requirement already satisfied: requests<3.0.0,>=2.13.0 in /Users/dineshyadav/anaconda3/lib/python3.10/site-packages (from spacy) (2.28.1)\n",
      "Requirement already satisfied: preshed<3.1.0,>=3.0.2 in /Users/dineshyadav/anaconda3/lib/python3.10/site-packages (from spacy) (3.0.8)\n",
      "Requirement already satisfied: jinja2 in /Users/dineshyadav/anaconda3/lib/python3.10/site-packages (from spacy) (3.1.2)\n",
      "Requirement already satisfied: pydantic!=1.8,!=1.8.1,<3.0.0,>=1.7.4 in /Users/dineshyadav/anaconda3/lib/python3.10/site-packages (from spacy) (1.10.9)\n",
      "Requirement already satisfied: spacy-legacy<3.1.0,>=3.0.11 in /Users/dineshyadav/anaconda3/lib/python3.10/site-packages (from spacy) (3.0.12)\n",
      "Requirement already satisfied: setuptools in /Users/dineshyadav/anaconda3/lib/python3.10/site-packages (from spacy) (65.6.3)\n",
      "Requirement already satisfied: smart-open<7.0.0,>=5.2.1 in /Users/dineshyadav/anaconda3/lib/python3.10/site-packages (from spacy) (5.2.1)\n",
      "Requirement already satisfied: tqdm<5.0.0,>=4.38.0 in /Users/dineshyadav/anaconda3/lib/python3.10/site-packages (from spacy) (4.64.1)\n",
      "Requirement already satisfied: spacy-loggers<2.0.0,>=1.0.0 in /Users/dineshyadav/anaconda3/lib/python3.10/site-packages (from spacy) (1.0.4)\n",
      "Requirement already satisfied: srsly<3.0.0,>=2.4.3 in /Users/dineshyadav/anaconda3/lib/python3.10/site-packages (from spacy) (2.4.7)\n",
      "Requirement already satisfied: langcodes<4.0.0,>=3.2.0 in /Users/dineshyadav/anaconda3/lib/python3.10/site-packages (from spacy) (3.3.0)\n",
      "Requirement already satisfied: wasabi<1.2.0,>=0.9.1 in /Users/dineshyadav/anaconda3/lib/python3.10/site-packages (from spacy) (1.1.2)\n",
      "Requirement already satisfied: packaging>=20.0 in /Users/dineshyadav/anaconda3/lib/python3.10/site-packages (from spacy) (22.0)\n",
      "Requirement already satisfied: catalogue<2.1.0,>=2.0.6 in /Users/dineshyadav/anaconda3/lib/python3.10/site-packages (from spacy) (2.0.9)\n",
      "Requirement already satisfied: pathy>=0.10.0 in /Users/dineshyadav/anaconda3/lib/python3.10/site-packages (from spacy) (0.10.2)\n",
      "Requirement already satisfied: numpy>=1.15.0 in /Users/dineshyadav/anaconda3/lib/python3.10/site-packages (from spacy) (1.23.5)\n",
      "Requirement already satisfied: cymem<2.1.0,>=2.0.2 in /Users/dineshyadav/anaconda3/lib/python3.10/site-packages (from spacy) (2.0.7)\n",
      "Requirement already satisfied: typing-extensions>=4.2.0 in /Users/dineshyadav/anaconda3/lib/python3.10/site-packages (from pydantic!=1.8,!=1.8.1,<3.0.0,>=1.7.4->spacy) (4.4.0)\n",
      "Requirement already satisfied: idna<4,>=2.5 in /Users/dineshyadav/anaconda3/lib/python3.10/site-packages (from requests<3.0.0,>=2.13.0->spacy) (3.4)\n",
      "Requirement already satisfied: urllib3<1.27,>=1.21.1 in /Users/dineshyadav/anaconda3/lib/python3.10/site-packages (from requests<3.0.0,>=2.13.0->spacy) (1.26.14)\n",
      "Requirement already satisfied: charset-normalizer<3,>=2 in /Users/dineshyadav/anaconda3/lib/python3.10/site-packages (from requests<3.0.0,>=2.13.0->spacy) (2.0.4)\n",
      "Requirement already satisfied: certifi>=2017.4.17 in /Users/dineshyadav/anaconda3/lib/python3.10/site-packages (from requests<3.0.0,>=2.13.0->spacy) (2022.12.7)\n",
      "Requirement already satisfied: blis<0.8.0,>=0.7.8 in /Users/dineshyadav/anaconda3/lib/python3.10/site-packages (from thinc<8.2.0,>=8.1.8->spacy) (0.7.10)\n",
      "Requirement already satisfied: confection<1.0.0,>=0.0.1 in /Users/dineshyadav/anaconda3/lib/python3.10/site-packages (from thinc<8.2.0,>=8.1.8->spacy) (0.1.1)\n",
      "Requirement already satisfied: click<9.0.0,>=7.1.1 in /Users/dineshyadav/anaconda3/lib/python3.10/site-packages (from typer<0.10.0,>=0.3.0->spacy) (8.0.4)\n",
      "Requirement already satisfied: MarkupSafe>=2.0 in /Users/dineshyadav/anaconda3/lib/python3.10/site-packages (from jinja2->spacy) (2.1.1)\n"
     ]
    }
   ],
   "source": [
    "!pip install spacy\n",
    "import spacy\n",
    "nlp = spacy.load('en_core_web_md')"
   ]
  },
  {
   "cell_type": "code",
   "execution_count": 18,
   "id": "0988d48f",
   "metadata": {},
   "outputs": [],
   "source": [
    "# tokenises a sentence using spacy library\n",
    "def spacy_tokenizer(text):\n",
    "    doc = nlp(text)\n",
    "\n",
    "    # lemmatise tokens\n",
    "    tokens = [word.lemma_.strip() for word in doc]\n",
    "\n",
    "    return tokens"
   ]
  },
  {
   "cell_type": "code",
   "execution_count": 19,
   "id": "889deb80",
   "metadata": {},
   "outputs": [],
   "source": [
    "import numpy as np\n",
    "\n",
    "# takes a tokenized sentence input from spacy and takes average of all word vectors\n",
    "def sentence_vect(tokens):\n",
    "    # word2vec output size (300 for word2vec-google-news-300)\n",
    "    size = word_vect.vector_size\n",
    "\n",
    "    # create a vector of zeroes\n",
    "    sent_vect = np.zeros(size)\n",
    "\n",
    "    # get average of all word vectors of each token\n",
    "    counter = 0\n",
    "    for word in tokens:\n",
    "        if word in word_vect:\n",
    "            sent_vect += word_vect[word]\n",
    "            counter += 1\n",
    "\n",
    "    if counter == 0:\n",
    "        return None\n",
    "\n",
    "    sent_vect = sent_vect / counter\n",
    "    return sent_vect"
   ]
  },
  {
   "cell_type": "code",
   "execution_count": 20,
   "id": "55cc41ca",
   "metadata": {},
   "outputs": [
    {
     "data": {
      "text/html": [
       "<div>\n",
       "<style scoped>\n",
       "    .dataframe tbody tr th:only-of-type {\n",
       "        vertical-align: middle;\n",
       "    }\n",
       "\n",
       "    .dataframe tbody tr th {\n",
       "        vertical-align: top;\n",
       "    }\n",
       "\n",
       "    .dataframe thead th {\n",
       "        text-align: right;\n",
       "    }\n",
       "</style>\n",
       "<table border=\"1\" class=\"dataframe\">\n",
       "  <thead>\n",
       "    <tr style=\"text-align: right;\">\n",
       "      <th></th>\n",
       "      <th>Question</th>\n",
       "      <th>Label</th>\n",
       "    </tr>\n",
       "  </thead>\n",
       "  <tbody>\n",
       "    <tr>\n",
       "      <th>0</th>\n",
       "      <td>Can you list the ingredients needed for a clas...</td>\n",
       "      <td>Remember</td>\n",
       "    </tr>\n",
       "    <tr>\n",
       "      <th>1</th>\n",
       "      <td>What are the top five tourist attractions in P...</td>\n",
       "      <td>Remember</td>\n",
       "    </tr>\n",
       "    <tr>\n",
       "      <th>2</th>\n",
       "      <td>List five common programming languages.</td>\n",
       "      <td>Remember</td>\n",
       "    </tr>\n",
       "    <tr>\n",
       "      <th>3</th>\n",
       "      <td>Name three types of renewable energy sources.</td>\n",
       "      <td>Remember</td>\n",
       "    </tr>\n",
       "    <tr>\n",
       "      <th>4</th>\n",
       "      <td>Can you list the planets in our solar system?</td>\n",
       "      <td>Remember</td>\n",
       "    </tr>\n",
       "    <tr>\n",
       "      <th>...</th>\n",
       "      <td>...</td>\n",
       "      <td>...</td>\n",
       "    </tr>\n",
       "    <tr>\n",
       "      <th>1766</th>\n",
       "      <td>Can you generalize from historical economic cy...</td>\n",
       "      <td>Create</td>\n",
       "    </tr>\n",
       "    <tr>\n",
       "      <th>1767</th>\n",
       "      <td>How can you relate knowledge from history and ...</td>\n",
       "      <td>Create</td>\n",
       "    </tr>\n",
       "    <tr>\n",
       "      <th>1768</th>\n",
       "      <td>What conclusions can you draw by combining int...</td>\n",
       "      <td>Create</td>\n",
       "    </tr>\n",
       "    <tr>\n",
       "      <th>1769</th>\n",
       "      <td>How could old architectural styles be combined...</td>\n",
       "      <td>Create</td>\n",
       "    </tr>\n",
       "    <tr>\n",
       "      <th>1770</th>\n",
       "      <td>Can you generalize from historical fashion tre...</td>\n",
       "      <td>Create</td>\n",
       "    </tr>\n",
       "  </tbody>\n",
       "</table>\n",
       "<p>1771 rows × 2 columns</p>\n",
       "</div>"
      ],
      "text/plain": [
       "                                               Question     Label\n",
       "0     Can you list the ingredients needed for a clas...  Remember\n",
       "1     What are the top five tourist attractions in P...  Remember\n",
       "2               List five common programming languages.  Remember\n",
       "3         Name three types of renewable energy sources.  Remember\n",
       "4         Can you list the planets in our solar system?  Remember\n",
       "...                                                 ...       ...\n",
       "1766  Can you generalize from historical economic cy...    Create\n",
       "1767  How can you relate knowledge from history and ...    Create\n",
       "1768  What conclusions can you draw by combining int...    Create\n",
       "1769  How could old architectural styles be combined...    Create\n",
       "1770  Can you generalize from historical fashion tre...    Create\n",
       "\n",
       "[1771 rows x 2 columns]"
      ]
     },
     "execution_count": 20,
     "metadata": {},
     "output_type": "execute_result"
    }
   ],
   "source": [
    "import pandas as pd\n",
    "df = pd.read_csv('B.csv')\n",
    "df"
   ]
  },
  {
   "cell_type": "code",
   "execution_count": 21,
   "id": "12c307b5",
   "metadata": {},
   "outputs": [],
   "source": [
    "%matplotlib inline\n",
    "\n",
    "import pandas as pd\n",
    "import matplotlib.pyplot as plt\n",
    "import seaborn as sns; sns.set()\n",
    "\n",
    "df = pd.read_csv('B.csv')\n",
    "\n",
    "# removes all punctuations and change to lower case\n",
    "df['Question'] = df['Question'].str.replace(r'[^\\w\\s]+', '', regex=True)\n",
    "df['Question'] = df['Question'].str.lower()\n",
    "\n",
    "df['Label'] = pd.factorize(df.Label)[0]\n",
    "# df['Label'].value_counts()\n",
    "\n",
    "# Change categories into numbers\n",
    "# Analysis - 0\n",
    "# Application - 1\n",
    "# Synthesis - 2\n",
    "# Evaluation - 3\n",
    "# Knowledge - 4\n",
    "# Comprehension - 5\n",
    "\n",
    "# Blooms taxonomy categories\n",
    "categories = [' Remember',  ' Understand', ' Apply',  ' Analyse',  ' Evaluate', ' Create']"
   ]
  },
  {
   "cell_type": "code",
   "execution_count": 22,
   "id": "403b5659",
   "metadata": {},
   "outputs": [],
   "source": [
    "# add a row of tokenised text\n",
    "df['Tokens'] = df['Question'].apply(spacy_tokenizer)"
   ]
  },
  {
   "cell_type": "code",
   "execution_count": 23,
   "id": "8c1682a5",
   "metadata": {},
   "outputs": [],
   "source": [
    "# create sentence vectors by taking average of token vectors\n",
    "df['Vectors'] = df['Tokens'].apply(sentence_vect)\n",
    "\n",
    "# drop all null values after tokenizing as some cells may not have relevant data\n",
    "df = df.dropna(axis=0, subset=['Vectors'])"
   ]
  },
  {
   "cell_type": "code",
   "execution_count": 24,
   "id": "f2239e06",
   "metadata": {},
   "outputs": [],
   "source": [
    "from sklearn.model_selection import train_test_split\n",
    "\n",
    "# X - sentence vectors (Vectors)\n",
    "# Y - blooms category (Label)\n",
    "\n",
    "# split data into training and test set (0.8, 0.2)\n",
    "train, test = train_test_split(df, test_size=0.30)"
   ]
  },
  {
   "cell_type": "code",
   "execution_count": 25,
   "id": "d897b251",
   "metadata": {},
   "outputs": [
    {
     "data": {
      "text/plain": [
       "1629    [0.0968488057454427, -0.011494954427083334, 0....\n",
       "389     [0.22737630208333334, 0.0023447672526041665, 0...\n",
       "1337    [0.1460418701171875, -0.0140380859375, -0.0853...\n",
       "99      [-0.00321197509765625, -0.03619384765625, 0.03...\n",
       "1417    [0.1022677951388889, 0.026207817925347224, 0.0...\n",
       "                              ...                        \n",
       "1365    [0.00697021484375, 0.0746002197265625, 0.08489...\n",
       "1109    [0.0011850992838541667, -0.0337982177734375, 0...\n",
       "868     [0.07610614483173077, 0.013596754807692308, 0....\n",
       "1390    [0.05133056640625, -0.0820465087890625, -0.028...\n",
       "1674    [0.073651123046875, -0.0051596641540527345, -0...\n",
       "Name: Vectors, Length: 532, dtype: object"
      ]
     },
     "execution_count": 25,
     "metadata": {},
     "output_type": "execute_result"
    }
   ],
   "source": [
    "test.Vectors"
   ]
  },
  {
   "cell_type": "code",
   "execution_count": 26,
   "id": "207e1abe",
   "metadata": {},
   "outputs": [
    {
     "data": {
      "text/html": [
       "<div>\n",
       "<style scoped>\n",
       "    .dataframe tbody tr th:only-of-type {\n",
       "        vertical-align: middle;\n",
       "    }\n",
       "\n",
       "    .dataframe tbody tr th {\n",
       "        vertical-align: top;\n",
       "    }\n",
       "\n",
       "    .dataframe thead th {\n",
       "        text-align: right;\n",
       "    }\n",
       "</style>\n",
       "<table border=\"1\" class=\"dataframe\">\n",
       "  <thead>\n",
       "    <tr style=\"text-align: right;\">\n",
       "      <th></th>\n",
       "      <th>Question</th>\n",
       "      <th>Label</th>\n",
       "      <th>Tokens</th>\n",
       "      <th>Vectors</th>\n",
       "    </tr>\n",
       "  </thead>\n",
       "  <tbody>\n",
       "    <tr>\n",
       "      <th>599</th>\n",
       "      <td>apply the principles of engineering to solve t...</td>\n",
       "      <td>2</td>\n",
       "      <td>[apply, the, principle, of, engineering, to, s...</td>\n",
       "      <td>[0.004058837890625, 0.027313232421875, -0.0001...</td>\n",
       "    </tr>\n",
       "    <tr>\n",
       "      <th>1401</th>\n",
       "      <td>assess the value of democratic theories in pol...</td>\n",
       "      <td>4</td>\n",
       "      <td>[assess, the, value, of, democratic, theory, i...</td>\n",
       "      <td>[0.0099945068359375, 0.053741455078125, 0.0710...</td>\n",
       "    </tr>\n",
       "    <tr>\n",
       "      <th>248</th>\n",
       "      <td>name the theory that explains the behavior of ...</td>\n",
       "      <td>0</td>\n",
       "      <td>[name, the, theory, that, explain, the, behavi...</td>\n",
       "      <td>[0.008448282877604166, 0.056498209635416664, -...</td>\n",
       "    </tr>\n",
       "    <tr>\n",
       "      <th>710</th>\n",
       "      <td>how can you experiment to study the effects of...</td>\n",
       "      <td>2</td>\n",
       "      <td>[how, can, you, experiment, to, study, the, ef...</td>\n",
       "      <td>[0.08031209309895833, 0.037882486979166664, 0....</td>\n",
       "    </tr>\n",
       "    <tr>\n",
       "      <th>1587</th>\n",
       "      <td>how can you generate innovative ideas for a te...</td>\n",
       "      <td>5</td>\n",
       "      <td>[how, can, you, generate, innovative, idea, fo...</td>\n",
       "      <td>[0.052337646484375, 0.010284423828125, 0.07767...</td>\n",
       "    </tr>\n",
       "    <tr>\n",
       "      <th>...</th>\n",
       "      <td>...</td>\n",
       "      <td>...</td>\n",
       "      <td>...</td>\n",
       "      <td>...</td>\n",
       "    </tr>\n",
       "    <tr>\n",
       "      <th>664</th>\n",
       "      <td>apply principles of law to solve a legal case</td>\n",
       "      <td>2</td>\n",
       "      <td>[apply, principle, of, law, to, solve, a, lega...</td>\n",
       "      <td>[-0.042724609375, 0.024576822916666668, 0.0076...</td>\n",
       "    </tr>\n",
       "    <tr>\n",
       "      <th>1591</th>\n",
       "      <td>can you integrate artificial intelligence into...</td>\n",
       "      <td>5</td>\n",
       "      <td>[can, you, integrate, artificial, intelligence...</td>\n",
       "      <td>[-0.00618438720703125, -0.016796875, 0.0031372...</td>\n",
       "    </tr>\n",
       "    <tr>\n",
       "      <th>856</th>\n",
       "      <td>how would you use statistical methods to analy...</td>\n",
       "      <td>2</td>\n",
       "      <td>[how, would, you, use, statistical, method, to...</td>\n",
       "      <td>[0.06317693536931818, -0.008955522017045454, 0...</td>\n",
       "    </tr>\n",
       "    <tr>\n",
       "      <th>204</th>\n",
       "      <td>tabulate the results of a recent survey on env...</td>\n",
       "      <td>0</td>\n",
       "      <td>[tabulate, the, result, of, a, recent, survey,...</td>\n",
       "      <td>[0.0363006591796875, 0.01373291015625, -0.0885...</td>\n",
       "    </tr>\n",
       "    <tr>\n",
       "      <th>1195</th>\n",
       "      <td>grade the quality of customer service received</td>\n",
       "      <td>4</td>\n",
       "      <td>[grade, the, quality, of, customer, service, r...</td>\n",
       "      <td>[-0.055704752604166664, 0.046671549479166664, ...</td>\n",
       "    </tr>\n",
       "  </tbody>\n",
       "</table>\n",
       "<p>1239 rows × 4 columns</p>\n",
       "</div>"
      ],
      "text/plain": [
       "                                               Question  Label  \\\n",
       "599   apply the principles of engineering to solve t...      2   \n",
       "1401  assess the value of democratic theories in pol...      4   \n",
       "248   name the theory that explains the behavior of ...      0   \n",
       "710   how can you experiment to study the effects of...      2   \n",
       "1587  how can you generate innovative ideas for a te...      5   \n",
       "...                                                 ...    ...   \n",
       "664       apply principles of law to solve a legal case      2   \n",
       "1591  can you integrate artificial intelligence into...      5   \n",
       "856   how would you use statistical methods to analy...      2   \n",
       "204   tabulate the results of a recent survey on env...      0   \n",
       "1195     grade the quality of customer service received      4   \n",
       "\n",
       "                                                 Tokens  \\\n",
       "599   [apply, the, principle, of, engineering, to, s...   \n",
       "1401  [assess, the, value, of, democratic, theory, i...   \n",
       "248   [name, the, theory, that, explain, the, behavi...   \n",
       "710   [how, can, you, experiment, to, study, the, ef...   \n",
       "1587  [how, can, you, generate, innovative, idea, fo...   \n",
       "...                                                 ...   \n",
       "664   [apply, principle, of, law, to, solve, a, lega...   \n",
       "1591  [can, you, integrate, artificial, intelligence...   \n",
       "856   [how, would, you, use, statistical, method, to...   \n",
       "204   [tabulate, the, result, of, a, recent, survey,...   \n",
       "1195  [grade, the, quality, of, customer, service, r...   \n",
       "\n",
       "                                                Vectors  \n",
       "599   [0.004058837890625, 0.027313232421875, -0.0001...  \n",
       "1401  [0.0099945068359375, 0.053741455078125, 0.0710...  \n",
       "248   [0.008448282877604166, 0.056498209635416664, -...  \n",
       "710   [0.08031209309895833, 0.037882486979166664, 0....  \n",
       "1587  [0.052337646484375, 0.010284423828125, 0.07767...  \n",
       "...                                                 ...  \n",
       "664   [-0.042724609375, 0.024576822916666668, 0.0076...  \n",
       "1591  [-0.00618438720703125, -0.016796875, 0.0031372...  \n",
       "856   [0.06317693536931818, -0.008955522017045454, 0...  \n",
       "204   [0.0363006591796875, 0.01373291015625, -0.0885...  \n",
       "1195  [-0.055704752604166664, 0.046671549479166664, ...  \n",
       "\n",
       "[1239 rows x 4 columns]"
      ]
     },
     "execution_count": 26,
     "metadata": {},
     "output_type": "execute_result"
    }
   ],
   "source": [
    "train"
   ]
  },
  {
   "cell_type": "code",
   "execution_count": 27,
   "id": "abf471de",
   "metadata": {},
   "outputs": [
    {
     "data": {
      "text/html": [
       "<div>\n",
       "<style scoped>\n",
       "    .dataframe tbody tr th:only-of-type {\n",
       "        vertical-align: middle;\n",
       "    }\n",
       "\n",
       "    .dataframe tbody tr th {\n",
       "        vertical-align: top;\n",
       "    }\n",
       "\n",
       "    .dataframe thead th {\n",
       "        text-align: right;\n",
       "    }\n",
       "</style>\n",
       "<table border=\"1\" class=\"dataframe\">\n",
       "  <thead>\n",
       "    <tr style=\"text-align: right;\">\n",
       "      <th></th>\n",
       "      <th>Question</th>\n",
       "      <th>Label</th>\n",
       "      <th>Tokens</th>\n",
       "      <th>Vectors</th>\n",
       "    </tr>\n",
       "  </thead>\n",
       "  <tbody>\n",
       "    <tr>\n",
       "      <th>1629</th>\n",
       "      <td>how do you create an engaging user interface f...</td>\n",
       "      <td>5</td>\n",
       "      <td>[how, do, you, create, an, engage, user, inter...</td>\n",
       "      <td>[0.0968488057454427, -0.011494954427083334, 0....</td>\n",
       "    </tr>\n",
       "    <tr>\n",
       "      <th>389</th>\n",
       "      <td>interpret the moral lesson in a fable</td>\n",
       "      <td>1</td>\n",
       "      <td>[interpret, the, moral, lesson, in, a, fable]</td>\n",
       "      <td>[0.22737630208333334, 0.0023447672526041665, 0...</td>\n",
       "    </tr>\n",
       "    <tr>\n",
       "      <th>1337</th>\n",
       "      <td>measure the impact of influencer marketing on ...</td>\n",
       "      <td>4</td>\n",
       "      <td>[measure, the, impact, of, influencer, marketi...</td>\n",
       "      <td>[0.1460418701171875, -0.0140380859375, -0.0853...</td>\n",
       "    </tr>\n",
       "    <tr>\n",
       "      <th>99</th>\n",
       "      <td>tabulate the performance metrics for employees...</td>\n",
       "      <td>0</td>\n",
       "      <td>[tabulate, the, performance, metric, for, empl...</td>\n",
       "      <td>[-0.00321197509765625, -0.03619384765625, 0.03...</td>\n",
       "    </tr>\n",
       "    <tr>\n",
       "      <th>1417</th>\n",
       "      <td>recognize subjectivity in a debate about the b...</td>\n",
       "      <td>4</td>\n",
       "      <td>[recognize, subjectivity, in, a, debate, about...</td>\n",
       "      <td>[0.1022677951388889, 0.026207817925347224, 0.0...</td>\n",
       "    </tr>\n",
       "    <tr>\n",
       "      <th>...</th>\n",
       "      <td>...</td>\n",
       "      <td>...</td>\n",
       "      <td>...</td>\n",
       "      <td>...</td>\n",
       "    </tr>\n",
       "    <tr>\n",
       "      <th>1365</th>\n",
       "      <td>argue for or against the use of ai in criminal...</td>\n",
       "      <td>4</td>\n",
       "      <td>[argue, for, or, against, the, use, of, ai, in...</td>\n",
       "      <td>[0.00697021484375, 0.0746002197265625, 0.08489...</td>\n",
       "    </tr>\n",
       "    <tr>\n",
       "      <th>1109</th>\n",
       "      <td>what steps do you take to identify missing inf...</td>\n",
       "      <td>3</td>\n",
       "      <td>[what, step, do, you, take, to, identify, miss...</td>\n",
       "      <td>[0.0011850992838541667, -0.0337982177734375, 0...</td>\n",
       "    </tr>\n",
       "    <tr>\n",
       "      <th>868</th>\n",
       "      <td>how would you use linguistic concepts to analy...</td>\n",
       "      <td>2</td>\n",
       "      <td>[how, would, you, use, linguistic, concept, to...</td>\n",
       "      <td>[0.07610614483173077, 0.013596754807692308, 0....</td>\n",
       "    </tr>\n",
       "    <tr>\n",
       "      <th>1390</th>\n",
       "      <td>verify the value of anecdotal evidence in a pe...</td>\n",
       "      <td>4</td>\n",
       "      <td>[verify, the, value, of, anecdotal, evidence, ...</td>\n",
       "      <td>[0.05133056640625, -0.0820465087890625, -0.028...</td>\n",
       "    </tr>\n",
       "    <tr>\n",
       "      <th>1674</th>\n",
       "      <td>can you relate knowledge from psychology and e...</td>\n",
       "      <td>5</td>\n",
       "      <td>[can, you, relate, knowledge, from, psychology...</td>\n",
       "      <td>[0.073651123046875, -0.0051596641540527345, -0...</td>\n",
       "    </tr>\n",
       "  </tbody>\n",
       "</table>\n",
       "<p>532 rows × 4 columns</p>\n",
       "</div>"
      ],
      "text/plain": [
       "                                               Question  Label  \\\n",
       "1629  how do you create an engaging user interface f...      5   \n",
       "389               interpret the moral lesson in a fable      1   \n",
       "1337  measure the impact of influencer marketing on ...      4   \n",
       "99    tabulate the performance metrics for employees...      0   \n",
       "1417  recognize subjectivity in a debate about the b...      4   \n",
       "...                                                 ...    ...   \n",
       "1365  argue for or against the use of ai in criminal...      4   \n",
       "1109  what steps do you take to identify missing inf...      3   \n",
       "868   how would you use linguistic concepts to analy...      2   \n",
       "1390  verify the value of anecdotal evidence in a pe...      4   \n",
       "1674  can you relate knowledge from psychology and e...      5   \n",
       "\n",
       "                                                 Tokens  \\\n",
       "1629  [how, do, you, create, an, engage, user, inter...   \n",
       "389       [interpret, the, moral, lesson, in, a, fable]   \n",
       "1337  [measure, the, impact, of, influencer, marketi...   \n",
       "99    [tabulate, the, performance, metric, for, empl...   \n",
       "1417  [recognize, subjectivity, in, a, debate, about...   \n",
       "...                                                 ...   \n",
       "1365  [argue, for, or, against, the, use, of, ai, in...   \n",
       "1109  [what, step, do, you, take, to, identify, miss...   \n",
       "868   [how, would, you, use, linguistic, concept, to...   \n",
       "1390  [verify, the, value, of, anecdotal, evidence, ...   \n",
       "1674  [can, you, relate, knowledge, from, psychology...   \n",
       "\n",
       "                                                Vectors  \n",
       "1629  [0.0968488057454427, -0.011494954427083334, 0....  \n",
       "389   [0.22737630208333334, 0.0023447672526041665, 0...  \n",
       "1337  [0.1460418701171875, -0.0140380859375, -0.0853...  \n",
       "99    [-0.00321197509765625, -0.03619384765625, 0.03...  \n",
       "1417  [0.1022677951388889, 0.026207817925347224, 0.0...  \n",
       "...                                                 ...  \n",
       "1365  [0.00697021484375, 0.0746002197265625, 0.08489...  \n",
       "1109  [0.0011850992838541667, -0.0337982177734375, 0...  \n",
       "868   [0.07610614483173077, 0.013596754807692308, 0....  \n",
       "1390  [0.05133056640625, -0.0820465087890625, -0.028...  \n",
       "1674  [0.073651123046875, -0.0051596641540527345, -0...  \n",
       "\n",
       "[532 rows x 4 columns]"
      ]
     },
     "execution_count": 27,
     "metadata": {},
     "output_type": "execute_result"
    }
   ],
   "source": [
    "test"
   ]
  },
  {
   "cell_type": "code",
   "execution_count": 28,
   "id": "5a627e58",
   "metadata": {},
   "outputs": [
    {
     "name": "stdout",
     "output_type": "stream",
     "text": [
      "              precision    recall  f1-score   support\n",
      "\n",
      "           0       0.88      0.79      0.83        94\n",
      "           1       0.72      0.81      0.76        85\n",
      "           2       0.83      0.86      0.85        86\n",
      "           3       0.87      0.79      0.82        98\n",
      "           4       0.88      0.85      0.87        87\n",
      "           5       0.91      1.00      0.95        82\n",
      "\n",
      "    accuracy                           0.85       532\n",
      "   macro avg       0.85      0.85      0.85       532\n",
      "weighted avg       0.85      0.85      0.85       532\n",
      "\n",
      "Accuracy: 0.8458646616541353\n"
     ]
    },
    {
     "data": {
      "image/png": "[encoded data removed]",
      "text/plain": [
       "<Figure size 640x480 with 1 Axes>"
      ]
     },
     "metadata": {},
     "output_type": "display_data"
    }
   ],
   "source": [
    "from sklearn.svm import SVC\n",
    "\n",
    "# model based on Support Vector Machine (non-probabilistic classifier)\n",
    "model = SVC(kernel='linear', gamma='auto', degree=3)\n",
    "\n",
    "# Fit sentence vectors to labels\n",
    "model.fit(list(train.Vectors), train.Label)\n",
    "\n",
    "# Generate blooms label on test set\n",
    "labels = model.predict(list(test.Vectors))\n",
    "\n",
    "\n",
    "# model report\n",
    "from sklearn.metrics import confusion_matrix\n",
    "from sklearn.metrics import accuracy_score\n",
    "from sklearn.metrics import classification_report\n",
    "\n",
    "# Heatmap of model\n",
    "mat = confusion_matrix(test.Label, labels)\n",
    "sns.heatmap(mat.T, square=True, annot=True, fmt='d', cbar=False\n",
    "            , xticklabels=categories\n",
    "            , yticklabels=categories)\n",
    "\n",
    "plt.xlabel('true label')\n",
    "plt.ylabel('predicted label')\n",
    "\n",
    "print(classification_report(test.Label, labels))\n",
    "# Model Accuracy, how often is the classifier correct?\n",
    "\n",
    "acc = accuracy_score(test.Label, labels)\n",
    "print(\"Accuracy:\", acc)"
   ]
  },
  {
   "cell_type": "code",
   "execution_count": 29,
   "id": "9310f336",
   "metadata": {},
   "outputs": [],
   "source": [
    "category_dict = {0: ' Remember', 1: ' Understand', 2: ' Apply', 3: ' Analyse', 4: ' Evaluate', 5: ' Create'}\n",
    "\n",
    "def predict_blooms(text, model):\n",
    "    process = spacy_tokenizer(text)\n",
    "    process = sentence_vect(process)\n",
    "    blooms = model.predict([process])\n",
    "    print(\"Predicted Class:\", category_dict[blooms[0]])"
   ]
  },
  {
   "cell_type": "code",
   "execution_count": 30,
   "id": "2f748d85",
   "metadata": {},
   "outputs": [
    {
     "name": "stdout",
     "output_type": "stream",
     "text": [
      "[' Remember', ' Understand', ' Apply', ' Analyse', ' Evaluate', ' Create'] \n",
      "\n",
      "\n",
      "SVM PREDICTION:\n",
      "Predicted Class:  Create\n"
     ]
    }
   ],
   "source": [
    "print(categories, \"\\n\")\n",
    "\n",
    "task = \"What changes would you make to solve …?\"\n",
    "\n",
    "print(\"\\nSVM PREDICTION:\")\n",
    "predict_blooms(task, model)"
   ]
  },
  {
   "cell_type": "code",
   "execution_count": null,
   "id": "744cafb4",
   "metadata": {},
   "outputs": [],
   "source": []
  },
  {
   "cell_type": "code",
   "execution_count": 31,
   "id": "04ced75a",
   "metadata": {},
   "outputs": [],
   "source": [
    "#Fitting K-NN classifier to the training set  \n",
    "from sklearn.neighbors import KNeighborsClassifier  \n",
    "model2= KNeighborsClassifier(n_neighbors=10, metric='minkowski', p=2 )  \n",
    "model2.fit(list(train.Vectors), train.Label) \n",
    "labels2 = model2.predict(list(test.Vectors))"
   ]
  },
  {
   "cell_type": "code",
   "execution_count": 32,
   "id": "f646fe91",
   "metadata": {},
   "outputs": [
    {
     "name": "stdout",
     "output_type": "stream",
     "text": [
      "              precision    recall  f1-score   support\n",
      "\n",
      "           0       0.93      0.53      0.68        94\n",
      "           1       0.75      0.66      0.70        85\n",
      "           2       0.69      0.79      0.74        86\n",
      "           3       0.64      0.89      0.75        98\n",
      "           4       0.92      0.75      0.82        87\n",
      "           5       0.81      0.96      0.88        82\n",
      "\n",
      "    accuracy                           0.76       532\n",
      "   macro avg       0.79      0.76      0.76       532\n",
      "weighted avg       0.79      0.76      0.76       532\n",
      "\n",
      "Accuracy: 0.7612781954887218\n"
     ]
    },
    {
     "data": {
      "image/png": "[encoded data removed]",
      "text/plain": [
       "<Figure size 640x480 with 1 Axes>"
      ]
     },
     "metadata": {},
     "output_type": "display_data"
    }
   ],
   "source": [
    "# Heatmap of model\n",
    "mat = confusion_matrix(test.Label, labels2)\n",
    "sns.heatmap(mat.T, square=True, annot=True, fmt='d', cbar=False\n",
    "            , xticklabels=categories\n",
    "            , yticklabels=categories)\n",
    "\n",
    "plt.xlabel('true label')\n",
    "plt.ylabel('predicted label')\n",
    "\n",
    "print(classification_report(test.Label, labels2))\n",
    "# Model Accuracy, how often is the classifier correct?\n",
    "\n",
    "acc = accuracy_score(test.Label, labels2)\n",
    "print(\"Accuracy:\", acc)"
   ]
  },
  {
   "cell_type": "code",
   "execution_count": 33,
   "id": "734a6c2e",
   "metadata": {},
   "outputs": [],
   "source": [
    "category_dict = {0: ' Remember', 1: ' Understand', 2: ' Apply', 3: ' Analyse', 4: ' Evaluate', 5: ' Create'}\n",
    "\n",
    "def predict_blooms(text, model):\n",
    "    process = spacy_tokenizer(text)\n",
    "    process = sentence_vect(process)\n",
    "    blooms = model2.predict([process])\n",
    "    print(\"Predicted Class:\", category_dict[blooms[0]])"
   ]
  },
  {
   "cell_type": "code",
   "execution_count": 34,
   "id": "4dbea75f",
   "metadata": {},
   "outputs": [
    {
     "name": "stdout",
     "output_type": "stream",
     "text": [
      "[' Remember', ' Understand', ' Apply', ' Analyse', ' Evaluate', ' Create'] \n",
      "\n",
      "\n",
      "KNeighborsClassifier PREDICTION:\n",
      "Predicted Class:  Evaluate\n"
     ]
    }
   ],
   "source": [
    "print(categories, \"\\n\")\n",
    "\n",
    "task = \"What changes would you make to solve …?\"\n",
    "\n",
    "print(\"\\nKNeighborsClassifier PREDICTION:\")\n",
    "predict_blooms(task, model)"
   ]
  },
  {
   "cell_type": "code",
   "execution_count": null,
   "id": "e722a1bd",
   "metadata": {},
   "outputs": [],
   "source": []
  },
  {
   "cell_type": "code",
   "execution_count": 35,
   "id": "dfa73eca",
   "metadata": {},
   "outputs": [],
   "source": [
    "from sklearn.ensemble import RandomForestClassifier  \n",
    "classifier= RandomForestClassifier(n_estimators= 10, criterion=\"entropy\")  \n",
    "classifier.fit(list(train.Vectors), train.Label) \n",
    "labels3 = classifier.predict(list(test.Vectors))"
   ]
  },
  {
   "cell_type": "code",
   "execution_count": 36,
   "id": "038ada1b",
   "metadata": {},
   "outputs": [
    {
     "name": "stdout",
     "output_type": "stream",
     "text": [
      "              precision    recall  f1-score   support\n",
      "\n",
      "           0       0.59      0.64      0.61        94\n",
      "           1       0.45      0.47      0.46        85\n",
      "           2       0.66      0.66      0.66        86\n",
      "           3       0.74      0.77      0.75        98\n",
      "           4       0.61      0.53      0.56        87\n",
      "           5       0.86      0.79      0.82        82\n",
      "\n",
      "    accuracy                           0.64       532\n",
      "   macro avg       0.65      0.64      0.64       532\n",
      "weighted avg       0.65      0.64      0.65       532\n",
      "\n",
      "Accuracy: 0.6447368421052632\n"
     ]
    },
    {
     "data": {
      "image/png": "[encoded data removed]",
      "text/plain": [
       "<Figure size 640x480 with 1 Axes>"
      ]
     },
     "metadata": {},
     "output_type": "display_data"
    }
   ],
   "source": [
    "# Heatmap of model\n",
    "mat = confusion_matrix(test.Label, labels3)\n",
    "sns.heatmap(mat.T, square=True, annot=True, fmt='d', cbar=False\n",
    "            , xticklabels=categories\n",
    "            , yticklabels=categories)\n",
    "\n",
    "plt.xlabel('true label')\n",
    "plt.ylabel('predicted label')\n",
    "\n",
    "print(classification_report(test.Label, labels3))\n",
    "# Model Accuracy, how often is the classifier correct?\n",
    "\n",
    "acc = accuracy_score(test.Label, labels3)\n",
    "print(\"Accuracy:\", acc)"
   ]
  },
  {
   "cell_type": "code",
   "execution_count": 37,
   "id": "12d80131",
   "metadata": {},
   "outputs": [],
   "source": [
    "category_dict = {0: ' Remember', 1: ' Understand', 2: ' Apply', 3: ' Analyse', 4: ' Evaluate', 5: ' Create'}\n",
    "\n",
    "def predict_blooms(text, model):\n",
    "    process = spacy_tokenizer(text)\n",
    "    process = sentence_vect(process)\n",
    "    blooms = model2.predict([process])\n",
    "    print(\"Predicted Class:\", category_dict[blooms[0]])"
   ]
  },
  {
   "cell_type": "code",
   "execution_count": 38,
   "id": "a49590be",
   "metadata": {},
   "outputs": [
    {
     "name": "stdout",
     "output_type": "stream",
     "text": [
      "[' Remember', ' Understand', ' Apply', ' Analyse', ' Evaluate', ' Create'] \n",
      "\n",
      "\n",
      "RandomForestClassifier   PREDICTION:\n",
      "Predicted Class:  Evaluate\n"
     ]
    }
   ],
   "source": [
    "print(categories, \"\\n\")\n",
    "\n",
    "task = \"What changes would you make to solve …?\"\n",
    "\n",
    "print(\"\\nRandomForestClassifier   PREDICTION:\")\n",
    "predict_blooms(task, model)"
   ]
  },
  {
   "cell_type": "code",
   "execution_count": null,
   "id": "24bbe015",
   "metadata": {},
   "outputs": [],
   "source": []
  },
  {
   "cell_type": "code",
   "execution_count": 39,
   "id": "7a249573",
   "metadata": {},
   "outputs": [],
   "source": [
    "from sklearn.naive_bayes import GaussianNB\n",
    "\n",
    "# Build a Gaussian Classifier\n",
    "model4 = GaussianNB()\n",
    "\n",
    "# Model training\n",
    "model4.fit(list(train.Vectors), train.Label)\n",
    "\n",
    "labels4 = model4.predict(list(test.Vectors))"
   ]
  },
  {
   "cell_type": "code",
   "execution_count": 40,
   "id": "f9f3e9d4",
   "metadata": {},
   "outputs": [
    {
     "name": "stdout",
     "output_type": "stream",
     "text": [
      "              precision    recall  f1-score   support\n",
      "\n",
      "           0       0.85      0.55      0.67        94\n",
      "           1       0.52      0.55      0.53        85\n",
      "           2       0.66      0.69      0.67        86\n",
      "           3       0.71      0.66      0.68        98\n",
      "           4       0.60      0.66      0.63        87\n",
      "           5       0.74      0.93      0.82        82\n",
      "\n",
      "    accuracy                           0.67       532\n",
      "   macro avg       0.68      0.67      0.67       532\n",
      "weighted avg       0.68      0.67      0.67       532\n",
      "\n",
      "Accuracy: 0.6691729323308271\n"
     ]
    },
    {
     "data": {
      "image/png": "[encoded data removed]",
      "text/plain": [
       "<Figure size 640x480 with 1 Axes>"
      ]
     },
     "metadata": {},
     "output_type": "display_data"
    }
   ],
   "source": [
    "# Heatmap of model\n",
    "mat = confusion_matrix(test.Label, labels4)\n",
    "sns.heatmap(mat.T, square=True, annot=True, fmt='d', cbar=False\n",
    "            , xticklabels=categories\n",
    "            , yticklabels=categories)\n",
    "\n",
    "plt.xlabel('true label')\n",
    "plt.ylabel('predicted label')\n",
    "\n",
    "print(classification_report(test.Label, labels4))\n",
    "# Model Accuracy, how often is the classifier correct?\n",
    "\n",
    "acc = accuracy_score(test.Label, labels4)\n",
    "print(\"Accuracy:\", acc)"
   ]
  },
  {
   "cell_type": "code",
   "execution_count": 41,
   "id": "1fbea651",
   "metadata": {},
   "outputs": [],
   "source": [
    "category_dict = {0: ' Remember', 1: ' Understand', 2: ' Apply', 3: ' Analyse', 4: ' Evaluate', 5: ' Create'}\n",
    "\n",
    "def predict_blooms(text, model4):\n",
    "    process = spacy_tokenizer(text)\n",
    "    process = sentence_vect(process)\n",
    "    blooms = model4.predict([process])\n",
    "    print(\"Predicted Class:\", category_dict[blooms[0]])"
   ]
  },
  {
   "cell_type": "code",
   "execution_count": 42,
   "id": "9ccf62a9",
   "metadata": {},
   "outputs": [
    {
     "name": "stdout",
     "output_type": "stream",
     "text": [
      "[' Remember', ' Understand', ' Apply', ' Analyse', ' Evaluate', ' Create'] \n",
      "\n",
      "\n",
      "RandomForestClassifier   PREDICTION:\n",
      "Predicted Class:  Remember\n"
     ]
    }
   ],
   "source": [
    "print(categories, \"\\n\")\n",
    "\n",
    "task = \"What changes would you make to solve …?\"\n",
    "\n",
    "print(\"\\nRandomForestClassifier   PREDICTION:\")\n",
    "predict_blooms(task, model4)"
   ]
  }
 ],
 "metadata": {
  "kernelspec": {
   "display_name": "Python 3 (ipykernel)",
   "language": "python",
   "name": "python3"
  },
  "language_info": {
   "codemirror_mode": {
    "name": "ipython",
    "version": 3
   },
   "file_extension": ".py",
   "mimetype": "text/x-python",
   "name": "python",
   "nbconvert_exporter": "python",
   "pygments_lexer": "ipython3",
   "version": "3.12.7"
  }
 },
 "nbformat": 4,
 "nbformat_minor": 5
}
